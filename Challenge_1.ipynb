{
  "nbformat": 4,
  "nbformat_minor": 0,
  "metadata": {
    "colab": {
      "name": "Challenge 1.ipynb",
      "provenance": [],
      "collapsed_sections": [],
      "authorship_tag": "ABX9TyOOJO4re3vRWN0/SqBkqy5w",
      "include_colab_link": true
    },
    "kernelspec": {
      "name": "python3",
      "display_name": "Python 3"
    },
    "language_info": {
      "name": "python"
    },
    "accelerator": "GPU"
  },
  "cells": [
    {
      "cell_type": "markdown",
      "metadata": {
        "id": "view-in-github",
        "colab_type": "text"
      },
      "source": [
        "<a href=\"https://colab.research.google.com/github/heyraisin/AI-Challenge-1/blob/main/Challenge_1.ipynb\" target=\"_parent\"><img src=\"https://colab.research.google.com/assets/colab-badge.svg\" alt=\"Open In Colab\"/></a>"
      ]
    },
    {
      "cell_type": "code",
      "metadata": {
        "colab": {
          "base_uri": "https://localhost:8080/"
        },
        "id": "iGa-ZAnE6e1x",
        "outputId": "2c8e10f6-6174-437f-a716-c80b7edea889"
      },
      "source": [
        "from google.colab import drive\n",
        "drive.mount('/content/gdrive')"
      ],
      "execution_count": null,
      "outputs": [
        {
          "output_type": "stream",
          "name": "stdout",
          "text": [
            "Mounted at /content/gdrive\n"
          ]
        }
      ]
    },
    {
      "cell_type": "code",
      "source": [
        "cd gdrive/MyDrive/AI-Course/Challenge1"
      ],
      "metadata": {
        "colab": {
          "base_uri": "https://localhost:8080/"
        },
        "id": "1QMykxIaSESi",
        "outputId": "389eda68-15ba-4d67-d6e3-fc4600b31fb2"
      },
      "execution_count": null,
      "outputs": [
        {
          "output_type": "stream",
          "name": "stdout",
          "text": [
            "/content/gdrive/MyDrive/AI-Course/Challenge1\n"
          ]
        }
      ]
    },
    {
      "cell_type": "code",
      "metadata": {
        "id": "U_hxloYr6oRM"
      },
      "source": [
        "import numpy as np\n",
        "import os\n",
        "import matplotlib.pyplot as plt\n",
        "import tensorflow as tf\n",
        "import cv2\n",
        "import json"
      ],
      "execution_count": null,
      "outputs": []
    },
    {
      "cell_type": "markdown",
      "source": [
        "## **Getting Data**"
      ],
      "metadata": {
        "id": "xoOS3cGvRUMu"
      }
    },
    {
      "cell_type": "markdown",
      "source": [
        "**Loading Three Datasets**"
      ],
      "metadata": {
        "id": "R7wAaBZkWTJ-"
      }
    },
    {
      "cell_type": "code",
      "metadata": {
        "id": "6SfgocqZ65-4",
        "colab": {
          "base_uri": "https://localhost:8080/"
        },
        "outputId": "71c7aef2-2835-4102-a1b5-05c6650caf58"
      },
      "source": [
        "cake_URL = 'https://storage.googleapis.com/quickdraw_dataset/full/numpy_bitmap/cake.npy'\n",
        "camera_URL = 'https://storage.googleapis.com/quickdraw_dataset/full/numpy_bitmap/camera.npy'\n",
        "candle_URL = 'https://storage.googleapis.com/quickdraw_dataset/full/numpy_bitmap/candle.npy'\n",
        "\n",
        "_URL = [cake_URL, camera_URL, candle_URL]\n",
        "\n",
        "# list of name of files\n",
        "dir_name = ['cake.npy', 'camera.npy', 'candle.npy']\n",
        "npy_dir = []\n",
        "\n",
        "for name, url in zip(dir_name,_URL):\n",
        "    npy_dir.append(tf.keras.utils.get_file(name, cache_subdir='datasets/quickdraw',origin = url)) \n",
        "npy_dir"
      ],
      "execution_count": null,
      "outputs": [
        {
          "output_type": "stream",
          "name": "stdout",
          "text": [
            "Downloading data from https://storage.googleapis.com/quickdraw_dataset/full/numpy_bitmap/cake.npy\n",
            "97927168/97925600 [==============================] - 3s 0us/step\n",
            "97935360/97925600 [==============================] - 3s 0us/step\n",
            "Downloading data from https://storage.googleapis.com/quickdraw_dataset/full/numpy_bitmap/camera.npy\n",
            "100958208/100957328 [==============================] - 1s 0us/step\n",
            "100966400/100957328 [==============================] - 1s 0us/step\n",
            "Downloading data from https://storage.googleapis.com/quickdraw_dataset/full/numpy_bitmap/candle.npy\n",
            "110977024/110971360 [==============================] - 2s 0us/step\n",
            "110985216/110971360 [==============================] - 2s 0us/step\n"
          ]
        },
        {
          "output_type": "execute_result",
          "data": {
            "text/plain": [
              "['/root/.keras/datasets/quickdraw/cake.npy',\n",
              " '/root/.keras/datasets/quickdraw/camera.npy',\n",
              " '/root/.keras/datasets/quickdraw/candle.npy']"
            ]
          },
          "metadata": {},
          "execution_count": 4
        }
      ]
    },
    {
      "cell_type": "code",
      "metadata": {
        "colab": {
          "base_uri": "https://localhost:8080/"
        },
        "id": "DiPWEnIX8E4C",
        "outputId": "24fea811-fca9-46ad-c9b1-ec9d96abab45"
      },
      "source": [
        "max_items_per_class = 100000\n",
        "num_val = 2000\n",
        "# Declare the shape of X and y for training and testing\n",
        "X = np.empty([0, 784])\n",
        "y = np.empty([0])\n",
        "# Declare the shape of X and y for validating\n",
        "val_X = np.empty([0, 784])\n",
        "val_y = np.empty([0])\n",
        "# Load all the data\n",
        "for i, file_path in enumerate(npy_dir):\n",
        "    data = np.load(file_path)\n",
        "    data_val = data[max_items_per_class:max_items_per_class+num_val, :]\n",
        "    label_val = np.full(data_val.shape[0], i)\n",
        "\n",
        "    data = data[0: max_items_per_class, :]\n",
        "    labels = np.full(data.shape[0], i)\n",
        "\n",
        "    X = np.concatenate((X, data), axis=0).astype('float32') #Convert to float32 to save memory\n",
        "    y = np.append(y, labels)\n",
        "\n",
        "    val_X = np.concatenate((val_X, data_val), axis = 0).astype('float32')\n",
        "    val_y = np.append(val_y, label_val)\n",
        "\n",
        "print(f'X shape: {X.shape}\\ny shape: {y.shape}\\nVal_X: {val_X.shape}\\nVal_y: {val_y.shape}')"
      ],
      "execution_count": null,
      "outputs": [
        {
          "output_type": "stream",
          "name": "stdout",
          "text": [
            "X shape: (300000, 784)\n",
            "y shape: (300000,)\n",
            "Val_X: (6000, 784)\n",
            "Val_y: (6000,)\n"
          ]
        }
      ]
    },
    {
      "cell_type": "markdown",
      "source": [
        "**Examine the Datasets**"
      ],
      "metadata": {
        "id": "bY_qcvTn3M-i"
      }
    },
    {
      "cell_type": "code",
      "metadata": {
        "id": "IDeOqruz8cSb"
      },
      "source": [
        "# load the data for image preview\n",
        "cake = np.load(npy_dir[0])\n",
        "camera = np.load(npy_dir[1])\n",
        "candle = np.load(npy_dir[2])"
      ],
      "execution_count": null,
      "outputs": []
    },
    {
      "cell_type": "code",
      "source": [
        "def plot_samples(input_array, rows=3, cols=10, title=''):\n",
        "    '''\n",
        "    Function to plot 28x28 pixel drawings that are stored in a numpy array.\n",
        "    Specify how many rows and cols of pictures to display (default 4x5).  \n",
        "    If the array contains less images than subplots selected, surplus subplots remain empty.\n",
        "    '''\n",
        "    \n",
        "    fig, ax = plt.subplots(figsize=(cols,rows))\n",
        "    ax.axis('off')\n",
        "    plt.title(title)\n",
        "\n",
        "    for i in list(range(0, min(len(input_array),(rows*cols)) )):      \n",
        "        a = fig.add_subplot(rows,cols,i+1)\n",
        "        imgplot = plt.imshow(input_array[i,:784].reshape((28,28)), cmap='gray_r', interpolation='nearest')\n",
        "        plt.xticks([])\n",
        "        plt.yticks([])"
      ],
      "metadata": {
        "id": "-6s3-xp93PqH"
      },
      "execution_count": null,
      "outputs": []
    },
    {
      "cell_type": "code",
      "source": [
        "plot_samples(cake, title = 'Sample cake drawings')\n",
        "plot_samples(candle, title = 'Sample candle drawings')\n",
        "plot_samples(camera, title = 'Sample camera drawings')"
      ],
      "metadata": {
        "colab": {
          "base_uri": "https://localhost:8080/",
          "height": 605
        },
        "id": "KinkKPns3TEk",
        "outputId": "417d4496-0b9e-430c-e6c0-494db731e245"
      },
      "execution_count": null,
      "outputs": [
        {
          "output_type": "display_data",
          "data": {
            "image/png": "[encoded data removed]",
            "text/plain": [
              "<Figure size 720x216 with 31 Axes>"
            ]
          },
          "metadata": {
            "needs_background": "light"
          }
        },
        {
          "output_type": "display_data",
          "data": {
            "image/png": "[encoded data removed]",
            "text/plain": [
              "<Figure size 720x216 with 31 Axes>"
            ]
          },
          "metadata": {
            "needs_background": "light"
          }
        },
        {
          "output_type": "display_data",
          "data": {
            "image/png": "[encoded data removed]",
            "text/plain": [
              "<Figure size 720x216 with 31 Axes>"
            ]
          },
          "metadata": {
            "needs_background": "light"
          }
        }
      ]
    },
    {
      "cell_type": "markdown",
      "source": [
        "**Splitting Datasets into Training and Test Data - Shuffling Data**"
      ],
      "metadata": {
        "id": "yNOT0mm_jC-L"
      }
    },
    {
      "cell_type": "code",
      "metadata": {
        "id": "M1JRCDdK9csl"
      },
      "source": [
        "#Reshape X and val_X into (28,28)\n",
        "X = np.reshape(X, (X.shape[0], 28,28))\n",
        "val_X = np.reshape(val_X, (val_X.shape[0], 28,28))"
      ],
      "execution_count": null,
      "outputs": []
    },
    {
      "cell_type": "code",
      "metadata": {
        "id": "ilaRKXNoBqve"
      },
      "source": [
        "from sklearn.model_selection import train_test_split\n",
        "X_train, X_test, y_train, y_test = train_test_split(X/255., y, test_size=0.3, random_state=42)"
      ],
      "execution_count": null,
      "outputs": []
    },
    {
      "cell_type": "code",
      "metadata": {
        "id": "Gxj5rGBACAiE",
        "colab": {
          "base_uri": "https://localhost:8080/"
        },
        "outputId": "87d636bc-455b-4843-b00a-49c81d1b1926"
      },
      "source": [
        "X_train.shape, y_train.shape"
      ],
      "execution_count": null,
      "outputs": [
        {
          "output_type": "execute_result",
          "data": {
            "text/plain": [
              "((210000, 28, 28), (210000,))"
            ]
          },
          "metadata": {},
          "execution_count": 11
        }
      ]
    },
    {
      "cell_type": "code",
      "metadata": {
        "id": "MSR5QIlwCQBG"
      },
      "source": [
        "# Add a color dimension to the images in \"train\" and \"validate\" dataset to\n",
        "# leverage Keras's data augmentation utilities later \n",
        "X_train = np.expand_dims(X_train, axis = 3)\n",
        "X_test = np.expand_dims(X_test, axis = 3)"
      ],
      "execution_count": null,
      "outputs": []
    },
    {
      "cell_type": "code",
      "metadata": {
        "colab": {
          "base_uri": "https://localhost:8080/"
        },
        "id": "tCIorXswC4qS",
        "outputId": "d094d22d-aa38-46e7-a38e-dece459db11d"
      },
      "source": [
        "X_train[0].shape"
      ],
      "execution_count": null,
      "outputs": [
        {
          "output_type": "execute_result",
          "data": {
            "text/plain": [
              "(28, 28, 1)"
            ]
          },
          "metadata": {},
          "execution_count": 13
        }
      ]
    },
    {
      "cell_type": "markdown",
      "source": [
        "## **Building the Model**"
      ],
      "metadata": {
        "id": "5SNWau4FV6hC"
      }
    },
    {
      "cell_type": "markdown",
      "source": [
        "**Creating a Sequential CNN Model**"
      ],
      "metadata": {
        "id": "ekRjnOTCi7gw"
      }
    },
    {
      "cell_type": "code",
      "metadata": {
        "id": "N_VALL4RDBUf"
      },
      "source": [
        "# one hot encode outputs\n",
        "from keras.utils.np_utils import to_categorical\n",
        "y_train_cnn = to_categorical(y_train)\n",
        "y_test_cnn = to_categorical(y_test)\n",
        "y_val_cnn = to_categorical(val_y)\n",
        "num_classes = y_test_cnn.shape[1]"
      ],
      "execution_count": null,
      "outputs": []
    },
    {
      "cell_type": "code",
      "metadata": {
        "colab": {
          "base_uri": "https://localhost:8080/"
        },
        "id": "k3KczEeWFCR1",
        "outputId": "1e5b4530-6765-43a7-8387-662965c81476"
      },
      "source": [
        "num_classes"
      ],
      "execution_count": null,
      "outputs": [
        {
          "output_type": "execute_result",
          "data": {
            "text/plain": [
              "3"
            ]
          },
          "metadata": {},
          "execution_count": 15
        }
      ]
    },
    {
      "cell_type": "code",
      "metadata": {
        "id": "mu_uQ43f-6Z3",
        "colab": {
          "base_uri": "https://localhost:8080/"
        },
        "outputId": "47c17cc5-0fb2-4bbe-d1d3-534edf5a0523"
      },
      "source": [
        "X_train.shape"
      ],
      "execution_count": null,
      "outputs": [
        {
          "output_type": "execute_result",
          "data": {
            "text/plain": [
              "(210000, 28, 28, 1)"
            ]
          },
          "metadata": {},
          "execution_count": 16
        }
      ]
    },
    {
      "cell_type": "code",
      "metadata": {
        "id": "0b96Y_zFDO6C"
      },
      "source": [
        "# reshape to be \n",
        "X_train_cnn = X_train.reshape(X_train.shape[0], 28, 28,1).astype('float32')\n",
        "X_test_cnn = X_test.reshape(X_test.shape[0], 28, 28,1).astype('float32')\n",
        "X_val_cnn = val_X.reshape(val_X.shape[0], 28, 28,1).astype('float32')"
      ],
      "execution_count": null,
      "outputs": []
    },
    {
      "cell_type": "code",
      "metadata": {
        "id": "q4BzOg-sEN5l",
        "colab": {
          "base_uri": "https://localhost:8080/"
        },
        "outputId": "c7afa5a2-3683-42d7-8c60-515fb0017386"
      },
      "source": [
        "image_shape = X_train_cnn.shape[1:]\n",
        "image_shape"
      ],
      "execution_count": null,
      "outputs": [
        {
          "output_type": "execute_result",
          "data": {
            "text/plain": [
              "(28, 28, 1)"
            ]
          },
          "metadata": {},
          "execution_count": 18
        }
      ]
    },
    {
      "cell_type": "markdown",
      "source": [
        "**Adding Layers to The Model**"
      ],
      "metadata": {
        "id": "7aYtzREtjTBH"
      }
    },
    {
      "cell_type": "code",
      "metadata": {
        "id": "9cORUiWQCGj5"
      },
      "source": [
        "data_augmentation = tf.keras.Sequential(\n",
        "  [\n",
        "    tf.keras.layers.RandomFlip(\"horizontal\",\n",
        "                      input_shape=(28,28,1)),\n",
        "    tf.keras.layers.RandomRotation(0.1),\n",
        "    tf.keras.layers.RandomZoom(0.1),\n",
        "  ]\n",
        ")"
      ],
      "execution_count": null,
      "outputs": []
    },
    {
      "cell_type": "code",
      "source": [
        "model = tf.keras.models.Sequential([\n",
        "        tf.keras.layers.InputLayer(input_shape=(28,28)),\n",
        "        tf.keras.layers.Reshape((28,28,1)),\n",
        "        tf.keras.layers.Conv2D(filters = 32, kernel_size=(5,5), activation='relu', padding='same'),\n",
        "        tf.keras.layers.MaxPooling2D((2,2), strides=2),\n",
        "        tf.keras.layers.Conv2D(filters = 32, kernel_size=(3,3), activation='relu',padding='same'),\n",
        "        tf.keras.layers.MaxPooling2D((2,2), strides=2),\n",
        "        tf.keras.layers.Conv2D(filters = 64, kernel_size=(3,3), activation='relu', padding='same'),\n",
        "        tf.keras.layers.MaxPooling2D((2,2), strides=2),\n",
        "        tf.keras.layers.Dropout(0.25),\n",
        "        tf.keras.layers.Flatten(),\n",
        "        tf.keras.layers.Dense(512, activation='relu'),\n",
        "        tf.keras.layers.Dense(num_classes, activation='softmax')\n",
        "])"
      ],
      "metadata": {
        "id": "U58ouF2xjYJ0"
      },
      "execution_count": null,
      "outputs": []
    },
    {
      "cell_type": "markdown",
      "source": [
        "**Compiling the Model**"
      ],
      "metadata": {
        "id": "NLvqNFl3cHDZ"
      }
    },
    {
      "cell_type": "code",
      "source": [
        "adam_optimizer = tf.keras.optimizers.Adam(learning_rate=0.003)\n",
        "model.compile(optimizer = adam_optimizer,\n",
        "              loss = 'categorical_crossentropy',\n",
        "              metrics = ['accuracy'])\n",
        "\n",
        "model.summary()"
      ],
      "metadata": {
        "colab": {
          "base_uri": "https://localhost:8080/"
        },
        "id": "PZ_lEW6ycM15",
        "outputId": "20a3ea45-7c88-4009-b2fe-7fed55e8b4fa"
      },
      "execution_count": null,
      "outputs": [
        {
          "output_type": "stream",
          "name": "stdout",
          "text": [
            "Model: \"sequential_1\"\n",
            "_________________________________________________________________\n",
            " Layer (type)                Output Shape              Param #   \n",
            "=================================================================\n",
            " reshape (Reshape)           (None, 28, 28, 1)         0         \n",
            "                                                                 \n",
            " conv2d (Conv2D)             (None, 28, 28, 32)        832       \n",
            "                                                                 \n",
            " max_pooling2d (MaxPooling2D  (None, 14, 14, 32)       0         \n",
            " )                                                               \n",
            "                                                                 \n",
            " conv2d_1 (Conv2D)           (None, 14, 14, 32)        9248      \n",
            "                                                                 \n",
            " max_pooling2d_1 (MaxPooling  (None, 7, 7, 32)         0         \n",
            " 2D)                                                             \n",
            "                                                                 \n",
            " conv2d_2 (Conv2D)           (None, 7, 7, 64)          18496     \n",
            "                                                                 \n",
            " max_pooling2d_2 (MaxPooling  (None, 3, 3, 64)         0         \n",
            " 2D)                                                             \n",
            "                                                                 \n",
            " dropout (Dropout)           (None, 3, 3, 64)          0         \n",
            "                                                                 \n",
            " flatten (Flatten)           (None, 576)               0         \n",
            "                                                                 \n",
            " dense (Dense)               (None, 512)               295424    \n",
            "                                                                 \n",
            " dense_1 (Dense)             (None, 3)                 1539      \n",
            "                                                                 \n",
            "=================================================================\n",
            "Total params: 325,539\n",
            "Trainable params: 325,539\n",
            "Non-trainable params: 0\n",
            "_________________________________________________________________\n"
          ]
        }
      ]
    },
    {
      "cell_type": "markdown",
      "source": [
        "# **Training the Model**"
      ],
      "metadata": {
        "id": "heoUrjYjjesj"
      }
    },
    {
      "cell_type": "code",
      "source": [
        "early_stopping_callback = tf.keras.callbacks.EarlyStopping(\n",
        "    patience=4,\n",
        "    monitor='val_accuracy',\n",
        "    restore_best_weights=True,\n",
        "    verbose=1\n",
        ")"
      ],
      "metadata": {
        "id": "nJb-5Twwjbb1"
      },
      "execution_count": null,
      "outputs": []
    },
    {
      "cell_type": "code",
      "source": [
        "%time \n",
        "history = model.fit(X_train_cnn, y_train_cnn, \n",
        "                    validation_data=(X_test_cnn, y_test_cnn), \n",
        "                    epochs= 40,\n",
        "                    steps_per_epoch=400, \n",
        "                    callbacks=[\n",
        "                        early_stopping_callback\n",
        "                    ],\n",
        "                    verbose = 1)\n",
        "model.save('saved_model/quickdraw.h5')\n",
        "print('Model Save Successfully')"
      ],
      "metadata": {
        "colab": {
          "base_uri": "https://localhost:8080/"
        },
        "id": "KbkFSRJQjhsz",
        "outputId": "5afc73c2-ac73-44a6-848a-7b8f27e5f13f"
      },
      "execution_count": null,
      "outputs": [
        {
          "output_type": "stream",
          "name": "stdout",
          "text": [
            "CPU times: user 12 µs, sys: 4 µs, total: 16 µs\n",
            "Wall time: 19.8 µs\n",
            "Epoch 1/40\n",
            "400/400 [==============================] - 35s 61ms/step - loss: 0.1046 - accuracy: 0.9615 - val_loss: 0.0610 - val_accuracy: 0.9777\n",
            "Epoch 2/40\n",
            "400/400 [==============================] - 21s 52ms/step - loss: 0.0597 - accuracy: 0.9786 - val_loss: 0.0556 - val_accuracy: 0.9802\n",
            "Epoch 3/40\n",
            "400/400 [==============================] - 32s 80ms/step - loss: 0.0523 - accuracy: 0.9809 - val_loss: 0.0486 - val_accuracy: 0.9821\n",
            "Epoch 4/40\n",
            "400/400 [==============================] - 21s 54ms/step - loss: 0.0473 - accuracy: 0.9825 - val_loss: 0.0499 - val_accuracy: 0.9820\n",
            "Epoch 5/40\n",
            "400/400 [==============================] - 20s 51ms/step - loss: 0.0432 - accuracy: 0.9843 - val_loss: 0.0454 - val_accuracy: 0.9836\n",
            "Epoch 6/40\n",
            "400/400 [==============================] - 19s 48ms/step - loss: 0.0410 - accuracy: 0.9848 - val_loss: 0.0449 - val_accuracy: 0.9836\n",
            "Epoch 7/40\n",
            "400/400 [==============================] - 21s 52ms/step - loss: 0.0391 - accuracy: 0.9854 - val_loss: 0.0459 - val_accuracy: 0.9835\n",
            "Epoch 8/40\n",
            "400/400 [==============================] - 21s 51ms/step - loss: 0.0364 - accuracy: 0.9866 - val_loss: 0.0458 - val_accuracy: 0.9842\n",
            "Epoch 9/40\n",
            "400/400 [==============================] - 19s 47ms/step - loss: 0.0347 - accuracy: 0.9872 - val_loss: 0.0444 - val_accuracy: 0.9839\n",
            "Epoch 10/40\n",
            "400/400 [==============================] - 19s 48ms/step - loss: 0.0326 - accuracy: 0.9880 - val_loss: 0.0449 - val_accuracy: 0.9844\n",
            "Epoch 11/40\n",
            "400/400 [==============================] - 20s 49ms/step - loss: 0.0312 - accuracy: 0.9883 - val_loss: 0.0486 - val_accuracy: 0.9831\n",
            "Epoch 12/40\n",
            "400/400 [==============================] - 20s 51ms/step - loss: 0.0290 - accuracy: 0.9890 - val_loss: 0.0472 - val_accuracy: 0.9839\n",
            "Epoch 13/40\n",
            "400/400 [==============================] - 20s 51ms/step - loss: 0.0278 - accuracy: 0.9894 - val_loss: 0.0539 - val_accuracy: 0.9831\n",
            "Epoch 14/40\n",
            "400/400 [==============================] - ETA: 0s - loss: 0.0271 - accuracy: 0.9900Restoring model weights from the end of the best epoch: 10.\n",
            "400/400 [==============================] - 21s 52ms/step - loss: 0.0271 - accuracy: 0.9900 - val_loss: 0.0499 - val_accuracy: 0.9841\n",
            "Epoch 00014: early stopping\n",
            "Model Save Successfully\n"
          ]
        }
      ]
    },
    {
      "cell_type": "markdown",
      "source": [
        "**Plotting Graphs of The Model Loss and Accuracy During Training**"
      ],
      "metadata": {
        "id": "Hyqwxgk5-D42"
      }
    },
    {
      "cell_type": "code",
      "source": [
        "# Renders the charts for training accuracy and loss.\n",
        "def render_training_history(training_history):\n",
        "    loss = training_history.history['loss']\n",
        "    val_loss = training_history.history['val_loss']\n",
        "\n",
        "    accuracy = training_history.history['accuracy']\n",
        "    val_accuracy = training_history.history['val_accuracy']\n",
        "\n",
        "    plt.figure(figsize=(14, 4))\n",
        "\n",
        "    plt.subplot(1, 2, 1)\n",
        "    plt.title('Loss')\n",
        "    plt.xlabel('Epoch')\n",
        "    plt.ylabel('Loss')\n",
        "    plt.plot(loss, label='Training set')\n",
        "    plt.plot(val_loss, label='Test set', linestyle='dashdot')\n",
        "    plt.legend()\n",
        "    plt.grid(linestyle='dashdot', linewidth=1, alpha=0.5)\n",
        "\n",
        "    plt.subplot(1, 2, 2)\n",
        "    plt.title('Accuracy')\n",
        "    plt.xlabel('Epoch')\n",
        "    plt.ylabel('Accuracy')\n",
        "    plt.plot(accuracy, label='Training set')\n",
        "    plt.plot(val_accuracy, label='Test set', linestyle='dashdot')\n",
        "    plt.legend()\n",
        "    plt.grid(linestyle='dashdot', linewidth=1, alpha=0.5)\n",
        "\n",
        "    plt.show()\n",
        "render_training_history(history)"
      ],
      "metadata": {
        "colab": {
          "base_uri": "https://localhost:8080/",
          "height": 295
        },
        "id": "EcICvdSR-B5W",
        "outputId": "5dda8326-edac-4b86-fdd0-2b7cb2613c4f"
      },
      "execution_count": null,
      "outputs": [
        {
          "output_type": "display_data",
          "data": {
            "image/png": "[encoded data removed]",
            "text/plain": [
              "<Figure size 1008x288 with 2 Axes>"
            ]
          },
          "metadata": {
            "needs_background": "light"
          }
        }
      ]
    },
    {
      "cell_type": "code",
      "source": [
        "train_loss, train_accuracy = model.evaluate(X_test_cnn, y_test_cnn, verbose=0)\n",
        "\n",
        "print('Train loss: ', '{:.2f}'.format(train_loss))\n",
        "print('Train accuracy: ', '{:.2f}'.format(train_accuracy))"
      ],
      "metadata": {
        "colab": {
          "base_uri": "https://localhost:8080/"
        },
        "id": "UYvGXB38IdbI",
        "outputId": "509c29d5-6681-436c-fa15-38fd597fe5d8"
      },
      "execution_count": null,
      "outputs": [
        {
          "output_type": "stream",
          "name": "stdout",
          "text": [
            "Train loss:  0.04\n",
            "Train accuracy:  0.98\n"
          ]
        }
      ]
    },
    {
      "cell_type": "markdown",
      "source": [
        "# **Predicting Samples**"
      ],
      "metadata": {
        "id": "kUz2mmzYjo86"
      }
    },
    {
      "cell_type": "code",
      "source": [
        "class_names = ['cake', 'camera', 'candle']\n",
        "\n",
        "# model predict\n",
        "y_predict = np.argmax(model.predict(val_X), axis = 1)\n",
        "\n",
        "# true labels\n",
        "y_true = list(map(int, val_y))\n",
        "\n",
        "#get the indices of the bad labels \n",
        "bad_labels = np.argwhere((y_true == y_predict) == False).squeeze()\n",
        "\n",
        "#choose a random index with incorrect label \n",
        "idx1 = np.random.choice(bad_labels)\n",
        "\n",
        "print('True Case: ',class_names[y_true[idx1]])\n",
        "print('Prediction: ',class_names[y_predict[idx1]])\n",
        "plt.imshow(val_X[idx1].squeeze())\n",
        "\n"
      ],
      "metadata": {
        "colab": {
          "base_uri": "https://localhost:8080/",
          "height": 317
        },
        "id": "KwvmXWfJjkAI",
        "outputId": "9799805d-e850-4f4c-bb92-162c6452b6c3"
      },
      "execution_count": null,
      "outputs": [
        {
          "output_type": "stream",
          "name": "stdout",
          "text": [
            "True Case:  candle\n",
            "Prediction:  cake\n"
          ]
        },
        {
          "output_type": "execute_result",
          "data": {
            "text/plain": [
              "<matplotlib.image.AxesImage at 0x7f00e633c950>"
            ]
          },
          "metadata": {},
          "execution_count": 29
        },
        {
          "output_type": "display_data",
          "data": {
            "image/png": "[encoded data removed]",
            "text/plain": [
              "<Figure size 432x288 with 1 Axes>"
            ]
          },
          "metadata": {
            "needs_background": "light"
          }
        }
      ]
    },
    {
      "cell_type": "code",
      "source": [
        "#get the indices of the good labels \n",
        "good_labels = np.argwhere((y_true == y_predict) == True).squeeze()\n",
        "\n",
        "#choose a random index with correct label \n",
        "idx2 = np.random.choice(good_labels)\n",
        "\n",
        "print('False Case: ',class_names[y_true[idx2]])\n",
        "print('Prediction: ',class_names[y_predict[idx2]])\n",
        "plt.imshow(val_X[idx2].squeeze())\n",
        "\n",
        "plt.axis('off')\n",
        "plt.show()"
      ],
      "metadata": {
        "colab": {
          "base_uri": "https://localhost:8080/",
          "height": 282
        },
        "id": "2N2gMEmQQ4NL",
        "outputId": "d94896bd-ae05-4a4c-cbf2-5a58392bda3d"
      },
      "execution_count": null,
      "outputs": [
        {
          "output_type": "stream",
          "name": "stdout",
          "text": [
            "False Case:  candle\n",
            "Prediction:  candle\n"
          ]
        },
        {
          "output_type": "display_data",
          "data": {
            "image/png": "[encoded data removed]",
            "text/plain": [
              "<Figure size 432x288 with 1 Axes>"
            ]
          },
          "metadata": {
            "needs_background": "light"
          }
        }
      ]
    },
    {
      "cell_type": "code",
      "source": [
        ""
      ],
      "metadata": {
        "id": "0SxrulbFSjbO"
      },
      "execution_count": null,
      "outputs": []
    }
  ]
}